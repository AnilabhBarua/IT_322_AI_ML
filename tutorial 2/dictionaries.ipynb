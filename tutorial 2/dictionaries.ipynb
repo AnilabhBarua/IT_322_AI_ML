{
 "cells": [
  {
   "cell_type": "markdown",
   "id": "a608e937",
   "metadata": {
    "id": "a608e937",
    "papermill": {
     "duration": 0.017304,
     "end_time": "2023-04-21T13:38:08.485642",
     "exception": false,
     "start_time": "2023-04-21T13:38:08.468338",
     "status": "completed"
    },
    "tags": []
   },
   "source": [
    "# Dictionaries\n",
    "\n",
    "Dictionaries are a built-in Python data structure for mapping keys to values."
   ]
  },
  {
   "cell_type": "code",
   "execution_count": 7,
   "id": "cbfe9c8c",
   "metadata": {
    "collapsed": true,
    "execution": {
     "iopub.execute_input": "2023-04-21T13:38:08.520331Z",
     "iopub.status.busy": "2023-04-21T13:38:08.519524Z",
     "iopub.status.idle": "2023-04-21T13:38:08.524248Z",
     "shell.execute_reply": "2023-04-21T13:38:08.523297Z"
    },
    "executionInfo": {
     "elapsed": 575,
     "status": "ok",
     "timestamp": 1725609162663,
     "user": {
      "displayName": "Rupam Bhattacharyya",
      "userId": "00097577364919427844"
     },
     "user_tz": -330
    },
    "id": "cbfe9c8c",
    "papermill": {
     "duration": 0.024689,
     "end_time": "2023-04-21T13:38:08.526587",
     "exception": false,
     "start_time": "2023-04-21T13:38:08.501898",
     "status": "completed"
    },
    "tags": []
   },
   "outputs": [],
   "source": [
    " numbers= {'one':1, 'two':2, 'three':3}"
   ]
  },
  {
   "cell_type": "markdown",
   "id": "8a41d6ad",
   "metadata": {
    "id": "8a41d6ad",
    "papermill": {
     "duration": 0.015596,
     "end_time": "2023-04-21T13:38:08.558141",
     "exception": false,
     "start_time": "2023-04-21T13:38:08.542545",
     "status": "completed"
    },
    "tags": []
   },
   "source": [
    "In this case `'one'`, `'two'`, and `'three'` are the **keys**, and 1, 2 and 3 are their corresponding values.\n",
    "\n",
    "Values are accessed via square bracket syntax similar to indexing into lists and strings."
   ]
  },
  {
   "cell_type": "code",
   "execution_count": 8,
   "id": "6c3d4753",
   "metadata": {
    "colab": {
     "base_uri": "https://localhost:8080/"
    },
    "execution": {
     "iopub.execute_input": "2023-04-21T13:38:08.593955Z",
     "iopub.status.busy": "2023-04-21T13:38:08.592703Z",
     "iopub.status.idle": "2023-04-21T13:38:08.599535Z",
     "shell.execute_reply": "2023-04-21T13:38:08.598688Z"
    },
    "executionInfo": {
     "elapsed": 625,
     "status": "ok",
     "timestamp": 1725609167595,
     "user": {
      "displayName": "Rupam Bhattacharyya",
      "userId": "00097577364919427844"
     },
     "user_tz": -330
    },
    "id": "6c3d4753",
    "outputId": "fbdf97ed-4a30-41bc-cf50-2920dc1fb091",
    "papermill": {
     "duration": 0.027101,
     "end_time": "2023-04-21T13:38:08.601869",
     "exception": false,
     "start_time": "2023-04-21T13:38:08.574768",
     "status": "completed"
    },
    "tags": []
   },
   "outputs": [
    {
     "data": {
      "text/plain": [
       "1"
      ]
     },
     "execution_count": 8,
     "metadata": {},
     "output_type": "execute_result"
    }
   ],
   "source": [
    "numbers['one']"
   ]
  },
  {
   "cell_type": "markdown",
   "id": "8be40504",
   "metadata": {
    "id": "8be40504",
    "papermill": {
     "duration": 0.015936,
     "end_time": "2023-04-21T13:38:08.633900",
     "exception": false,
     "start_time": "2023-04-21T13:38:08.617964",
     "status": "completed"
    },
    "tags": []
   },
   "source": [
    "We can use the same syntax to add another key, value pair"
   ]
  },
  {
   "cell_type": "code",
   "execution_count": 11,
   "id": "56a37db7",
   "metadata": {
    "colab": {
     "base_uri": "https://localhost:8080/"
    },
    "execution": {
     "iopub.execute_input": "2023-04-21T13:38:08.668884Z",
     "iopub.status.busy": "2023-04-21T13:38:08.667705Z",
     "iopub.status.idle": "2023-04-21T13:38:08.675370Z",
     "shell.execute_reply": "2023-04-21T13:38:08.674205Z"
    },
    "executionInfo": {
     "elapsed": 589,
     "status": "ok",
     "timestamp": 1725609228950,
     "user": {
      "displayName": "Rupam Bhattacharyya",
      "userId": "00097577364919427844"
     },
     "user_tz": -330
    },
    "id": "56a37db7",
    "outputId": "00fb7345-e158-43ce-a4cb-4d32edf9b12b",
    "papermill": {
     "duration": 0.027713,
     "end_time": "2023-04-21T13:38:08.677815",
     "exception": false,
     "start_time": "2023-04-21T13:38:08.650102",
     "status": "completed"
    },
    "tags": []
   },
   "outputs": [
    {
     "data": {
      "text/plain": [
       "{'one': 'Pluto', 'two': 2, 'three': 3, 'eleven': 11}"
      ]
     },
     "execution_count": 11,
     "metadata": {},
     "output_type": "execute_result"
    }
   ],
   "source": [
    "numbers['eleven'] = 11\n",
    "numbers"
   ]
  },
  {
   "cell_type": "markdown",
   "id": "0b1d9b0f",
   "metadata": {
    "id": "0b1d9b0f",
    "papermill": {
     "duration": 0.016469,
     "end_time": "2023-04-21T13:38:08.710841",
     "exception": false,
     "start_time": "2023-04-21T13:38:08.694372",
     "status": "completed"
    },
    "tags": []
   },
   "source": [
    "Or to change the value associated with an existing key"
   ]
  },
  {
   "cell_type": "code",
   "execution_count": 12,
   "id": "d079e0fc",
   "metadata": {
    "colab": {
     "base_uri": "https://localhost:8080/"
    },
    "execution": {
     "iopub.execute_input": "2023-04-21T13:38:08.745207Z",
     "iopub.status.busy": "2023-04-21T13:38:08.744776Z",
     "iopub.status.idle": "2023-04-21T13:38:08.752042Z",
     "shell.execute_reply": "2023-04-21T13:38:08.751105Z"
    },
    "executionInfo": {
     "elapsed": 794,
     "status": "ok",
     "timestamp": 1725610465011,
     "user": {
      "displayName": "Rupam Bhattacharyya",
      "userId": "00097577364919427844"
     },
     "user_tz": -330
    },
    "id": "d079e0fc",
    "outputId": "dfd1dd6b-56d9-4c28-ec4a-eaea7f0aef24",
    "papermill": {
     "duration": 0.027356,
     "end_time": "2023-04-21T13:38:08.754522",
     "exception": false,
     "start_time": "2023-04-21T13:38:08.727166",
     "status": "completed"
    },
    "tags": []
   },
   "outputs": [
    {
     "data": {
      "text/plain": [
       "{'one': 'Pluto', 'two': 2, 'three': 3, 'eleven': 11}"
      ]
     },
     "execution_count": 12,
     "metadata": {},
     "output_type": "execute_result"
    }
   ],
   "source": [
    "numbers['one'] = 'Pluto'\n",
    "numbers"
   ]
  },
  {
   "cell_type": "markdown",
   "id": "ca33b02b",
   "metadata": {
    "id": "ca33b02b",
    "papermill": {
     "duration": 0.016135,
     "end_time": "2023-04-21T13:38:08.788220",
     "exception": false,
     "start_time": "2023-04-21T13:38:08.772085",
     "status": "completed"
    },
    "tags": []
   },
   "source": [
    "Python has *dictionary comprehensions* with a syntax similar to the list comprehensions we saw in the previous tutorial."
   ]
  },
  {
   "cell_type": "code",
   "execution_count": 13,
   "id": "18b00077",
   "metadata": {
    "colab": {
     "base_uri": "https://localhost:8080/"
    },
    "execution": {
     "iopub.execute_input": "2023-04-21T13:38:08.822913Z",
     "iopub.status.busy": "2023-04-21T13:38:08.822196Z",
     "iopub.status.idle": "2023-04-21T13:38:08.829330Z",
     "shell.execute_reply": "2023-04-21T13:38:08.828418Z"
    },
    "executionInfo": {
     "elapsed": 834,
     "status": "ok",
     "timestamp": 1725610468168,
     "user": {
      "displayName": "Rupam Bhattacharyya",
      "userId": "00097577364919427844"
     },
     "user_tz": -330
    },
    "id": "18b00077",
    "outputId": "0e3969f4-7032-4669-f346-b52311aed438",
    "papermill": {
     "duration": 0.02724,
     "end_time": "2023-04-21T13:38:08.831624",
     "exception": false,
     "start_time": "2023-04-21T13:38:08.804384",
     "status": "completed"
    },
    "tags": []
   },
   "outputs": [
    {
     "data": {
      "text/plain": [
       "{'Mercury': 'M',\n",
       " 'Venus': 'V',\n",
       " 'Earth': 'E',\n",
       " 'Mars': 'M',\n",
       " 'Jupiter': 'J',\n",
       " 'Saturn': 'S',\n",
       " 'Uranus': 'U',\n",
       " 'Neptune': 'N'}"
      ]
     },
     "execution_count": 13,
     "metadata": {},
     "output_type": "execute_result"
    }
   ],
   "source": [
    "planets = ['Mercury', 'Venus', 'Earth', 'Mars', 'Jupiter', 'Saturn', 'Uranus', 'Neptune']\n",
    "planet_to_initial = {planet: planet[0] for planet in planets}\n",
    "planet_to_initial"
   ]
  },
  {
   "cell_type": "markdown",
   "id": "fc205858",
   "metadata": {
    "id": "fc205858",
    "papermill": {
     "duration": 0.016063,
     "end_time": "2023-04-21T13:38:08.864244",
     "exception": false,
     "start_time": "2023-04-21T13:38:08.848181",
     "status": "completed"
    },
    "tags": []
   },
   "source": [
    "The `in` operator tells us whether something is a key in the dictionary"
   ]
  },
  {
   "cell_type": "code",
   "execution_count": 6,
   "id": "db386788",
   "metadata": {
    "colab": {
     "base_uri": "https://localhost:8080/"
    },
    "execution": {
     "iopub.execute_input": "2023-04-21T13:38:08.899447Z",
     "iopub.status.busy": "2023-04-21T13:38:08.898703Z",
     "iopub.status.idle": "2023-04-21T13:38:08.904637Z",
     "shell.execute_reply": "2023-04-21T13:38:08.903764Z"
    },
    "executionInfo": {
     "elapsed": 615,
     "status": "ok",
     "timestamp": 1725608680606,
     "user": {
      "displayName": "Rupam Bhattacharyya",
      "userId": "00097577364919427844"
     },
     "user_tz": -330
    },
    "id": "db386788",
    "outputId": "bb5a25a5-c4ab-41f7-99a0-5f456ddf8dfb",
    "papermill": {
     "duration": 0.026272,
     "end_time": "2023-04-21T13:38:08.906851",
     "exception": false,
     "start_time": "2023-04-21T13:38:08.880579",
     "status": "completed"
    },
    "tags": []
   },
   "outputs": [
    {
     "data": {
      "text/plain": [
       "True"
      ]
     },
     "execution_count": 6,
     "metadata": {},
     "output_type": "execute_result"
    }
   ],
   "source": [
    "'Saturn' in planet_to_initial"
   ]
  },
  {
   "cell_type": "code",
   "execution_count": null,
   "id": "938be6cd",
   "metadata": {
    "colab": {
     "base_uri": "https://localhost:8080/"
    },
    "execution": {
     "iopub.execute_input": "2023-04-21T13:38:08.942950Z",
     "iopub.status.busy": "2023-04-21T13:38:08.942516Z",
     "iopub.status.idle": "2023-04-21T13:38:08.949619Z",
     "shell.execute_reply": "2023-04-21T13:38:08.948230Z"
    },
    "executionInfo": {
     "elapsed": 424,
     "status": "ok",
     "timestamp": 1689653980575,
     "user": {
      "displayName": "Rupam Bhattacharyya",
      "userId": "00097577364919427844"
     },
     "user_tz": 420
    },
    "id": "938be6cd",
    "outputId": "b92f910d-2af0-4ebe-ba6b-ad82fa834f3c",
    "papermill": {
     "duration": 0.028541,
     "end_time": "2023-04-21T13:38:08.952435",
     "exception": false,
     "start_time": "2023-04-21T13:38:08.923894",
     "status": "completed"
    },
    "tags": []
   },
   "outputs": [
    {
     "data": {
      "text/plain": [
       "False"
      ]
     },
     "execution_count": 9,
     "metadata": {},
     "output_type": "execute_result"
    }
   ],
   "source": [
    "'Sachin' in planet_to_initial"
   ]
  },
  {
   "cell_type": "markdown",
   "id": "cfd31888",
   "metadata": {
    "id": "cfd31888",
    "papermill": {
     "duration": 0.016858,
     "end_time": "2023-04-21T13:38:08.986692",
     "exception": false,
     "start_time": "2023-04-21T13:38:08.969834",
     "status": "completed"
    },
    "tags": []
   },
   "source": [
    "A for loop over a dictionary will loop over its keys"
   ]
  },
  {
   "cell_type": "code",
   "execution_count": 14,
   "id": "6c850eaf",
   "metadata": {
    "colab": {
     "base_uri": "https://localhost:8080/"
    },
    "execution": {
     "iopub.execute_input": "2023-04-21T13:38:09.023368Z",
     "iopub.status.busy": "2023-04-21T13:38:09.022918Z",
     "iopub.status.idle": "2023-04-21T13:38:09.028558Z",
     "shell.execute_reply": "2023-04-21T13:38:09.027686Z"
    },
    "executionInfo": {
     "elapsed": 1073,
     "status": "ok",
     "timestamp": 1725610494140,
     "user": {
      "displayName": "Rupam Bhattacharyya",
      "userId": "00097577364919427844"
     },
     "user_tz": -330
    },
    "id": "6c850eaf",
    "outputId": "a21bae87-e489-401b-ea50-c93fc27a75b6",
    "papermill": {
     "duration": 0.026799,
     "end_time": "2023-04-21T13:38:09.030757",
     "exception": false,
     "start_time": "2023-04-21T13:38:09.003958",
     "status": "completed"
    },
    "tags": []
   },
   "outputs": [
    {
     "name": "stdout",
     "output_type": "stream",
     "text": [
      "one = Pluto\n",
      "two = 2\n",
      "three = 3\n",
      "eleven = 11\n"
     ]
    }
   ],
   "source": [
    "for k in numbers:\n",
    "    print(\"{} = {}\".format(k, numbers[k]))"
   ]
  },
  {
   "cell_type": "markdown",
   "id": "39722a35",
   "metadata": {
    "id": "39722a35",
    "papermill": {
     "duration": 0.016921,
     "end_time": "2023-04-21T13:38:09.065463",
     "exception": false,
     "start_time": "2023-04-21T13:38:09.048542",
     "status": "completed"
    },
    "tags": []
   },
   "source": [
    "We can access a collection of all the keys or all the values with `dict.keys()` and `dict.values()`, respectively."
   ]
  },
  {
   "cell_type": "code",
   "execution_count": 15,
   "id": "c40739fc",
   "metadata": {
    "colab": {
     "base_uri": "https://localhost:8080/",
     "height": 35
    },
    "execution": {
     "iopub.execute_input": "2023-04-21T13:38:09.102361Z",
     "iopub.status.busy": "2023-04-21T13:38:09.101129Z",
     "iopub.status.idle": "2023-04-21T13:38:09.109751Z",
     "shell.execute_reply": "2023-04-21T13:38:09.108510Z"
    },
    "executionInfo": {
     "elapsed": 862,
     "status": "ok",
     "timestamp": 1725610499932,
     "user": {
      "displayName": "Rupam Bhattacharyya",
      "userId": "00097577364919427844"
     },
     "user_tz": -330
    },
    "id": "c40739fc",
    "outputId": "d4b28db5-0b22-4dec-ee20-c2f27711aebc",
    "papermill": {
     "duration": 0.029851,
     "end_time": "2023-04-21T13:38:09.112241",
     "exception": false,
     "start_time": "2023-04-21T13:38:09.082390",
     "status": "completed"
    },
    "tags": []
   },
   "outputs": [
    {
     "data": {
      "application/vnd.google.colaboratory.intrinsic+json": {
       "type": "string"
      },
      "text/plain": [
       "'E J M M N S U V'"
      ]
     },
     "execution_count": 15,
     "metadata": {},
     "output_type": "execute_result"
    }
   ],
   "source": [
    "# Get all the initials, sort them alphabetically, and put them in a space-separated string.\n",
    "' '.join(sorted(planet_to_initial.values()))"
   ]
  }
 ],
 "metadata": {
  "anaconda-cloud": {},
  "colab": {
   "provenance": []
  },
  "kernelspec": {
   "display_name": "Python 3",
   "language": "python",
   "name": "python3"
  },
  "language_info": {
   "codemirror_mode": {
    "name": "ipython",
    "version": 3
   },
   "file_extension": ".py",
   "mimetype": "text/x-python",
   "name": "python",
   "nbconvert_exporter": "python",
   "pygments_lexer": "ipython3",
   "version": "3.7.12"
  },
  "learntools_metadata": {
   "lesson_index": 5,
   "type": "tutorial"
  },
  "papermill": {
   "default_parameters": {},
   "duration": 14.144488,
   "end_time": "2023-04-21T13:38:10.094036",
   "environment_variables": {},
   "exception": null,
   "input_path": "__notebook__.ipynb",
   "output_path": "__notebook__.ipynb",
   "parameters": {},
   "start_time": "2023-04-21T13:37:55.949548",
   "version": "2.4.0"
  }
 },
 "nbformat": 4,
 "nbformat_minor": 5
}
