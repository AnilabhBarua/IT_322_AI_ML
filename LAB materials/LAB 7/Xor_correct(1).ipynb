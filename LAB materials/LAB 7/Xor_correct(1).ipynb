{
  "nbformat": 4,
  "nbformat_minor": 0,
  "metadata": {
    "colab": {
      "provenance": []
    },
    "kernelspec": {
      "name": "python3",
      "display_name": "Python 3"
    },
    "language_info": {
      "name": "python"
    }
  },
  "cells": [
    {
      "cell_type": "code",
      "execution_count": null,
      "metadata": {
        "colab": {
          "base_uri": "https://localhost:8080/"
        },
        "id": "yjqtb5EGu5nY",
        "outputId": "05979d1f-87d4-457f-ba99-568f56198f2a"
      },
      "outputs": [
        {
          "output_type": "stream",
          "name": "stdout",
          "text": [
            "[[0.58927913]\n",
            " [0.63962591]\n",
            " [0.47472203]\n",
            " [0.18312536]]\n"
          ]
        }
      ],
      "source": [
        "import numpy as np\n",
        "\n",
        "class NeuralNetwork:\n",
        "    def __init__(self, alpha=0.1):\n",
        "        self.alpha = alpha\n",
        "        self.W1 = np.random.randn(2, 2)  # Input to hidden\n",
        "        self.W2 = np.random.randn(2, 1)  # Hidden to output\n",
        "\n",
        "    def sigmoid(self, x, deriv=False):\n",
        "        if deriv:\n",
        "            return x * (1 - x)\n",
        "        return 1 / (1 + np.exp(-x))\n",
        "\n",
        "    def forward(self, X):\n",
        "        self.z1 = np.dot(X, self.W1)\n",
        "        self.a1 = self.sigmoid(self.z1)\n",
        "        self.z2 = np.dot(self.a1, self.W2)\n",
        "        return self.sigmoid(self.z2)\n",
        "\n",
        "    def backward(self, X, y, output):\n",
        "        # Output layer error\n",
        "        error2 = (output - y)\n",
        "        delta2 = error2 * self.sigmoid(output, deriv=True)\n",
        "\n",
        "        # Hidden layer error\n",
        "        error1 = delta2.dot(self.W2.T)\n",
        "        delta1 = error1 * self.sigmoid(self.a1, deriv=True)\n",
        "\n",
        "        # Weight updates\n",
        "        self.W2 -= self.alpha * self.a1.T.dot(delta2)\n",
        "        self.W1 -= self.alpha * X.T.dot(delta1)\n",
        "\n",
        "    def train(self, X, y, epochs=1000):\n",
        "        for _ in range(epochs):\n",
        "            output = self.forward(X)\n",
        "            self.backward(X, y, output)\n",
        "\n",
        "# XOR dataset\n",
        "X = np.array([[0,0], [0,1], [1,0], [1,1]])\n",
        "y = np.array([[0], [1], [1], [0]])\n",
        "\n",
        "# Train network\n",
        "nn = NeuralNetwork(alpha=0.5)\n",
        "nn.train(X, y)\n",
        "\n",
        "# Test predictions\n",
        "print(nn.forward(X))"
      ]
    }
  ]
}