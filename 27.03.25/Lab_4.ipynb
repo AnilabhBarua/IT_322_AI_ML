{
  "cells": [
    {
      "cell_type": "code",
      "execution_count": 8,
      "metadata": {
        "id": "_cdP44Gfrzs6"
      },
      "outputs": [],
      "source": [
        "import numpy as np\n",
        "from sklearn import datasets\n",
        "\n",
        "iris = datasets.load_iris()\n",
        "\n",
        "X = iris.data[:, :2]\n",
        "y = (iris.target != 0) * 1\n",
        "\n",
        "class LogisticRegression:\n",
        "    def __init__ (self, lr=0.01, num_iter=100000, fit_intercept=True, verbose=False):\n",
        "        self.lr = lr\n",
        "        self.num_iter = num_iter\n",
        "        self.fit_intercept = fit_intercept\n",
        "        self.verbose = False\n",
        "        \n",
        "    def __add_intercept(self, X):\n",
        "        intercept = np.ones((X.shape[0], 1))\n",
        "        return np.concatenate((intercept, X), axis=1)\n",
        "        \n",
        "    def __sigmoid(self, z):\n",
        "        return 1 / (1 + np.exp(-z))\n",
        "\n",
        "    def __loss(self, h, y):\n",
        "        return (-y * np.log(h) - (1 - y) * np.log(l - h)).mean()\n",
        "\n",
        "    def fit(self, X, y):\n",
        "        if self.fit_intercept:\n",
        "            X = self.__add_intercept(X)\n",
        "            # weights initialization\n",
        "\n",
        "        self.theta = np.zeros(X.shape[1])\n",
        "        \n",
        "        for i in range(self.num_iter):\n",
        "            z = np.dot(X, self.theta)\n",
        "            h = self.__sigmoid(z)\n",
        "            gradient = np.dot(X.T, (h - y)) / y.size\n",
        "            self.theta -= self.lr * gradient\n",
        "\n",
        "            if (self.verbose == True and i % 10000 == 0):\n",
        "                z = np.dot(X, self.theta)\n",
        "                h = self. sigmoid(z)\n",
        "                print(f\"loss: ({self. loss(h, y)} \\t\")\n",
        "\n",
        "    def predict_prob(self, X):\n",
        "        if self.fit_intercept:\n",
        "            X = self.__add_intercept(X)\n",
        "        return self.__sigmoid(np.dot(X, self.theta))\n",
        "\n",
        "    def predict(self, X, threshold=0.5):\n",
        "        return self.predict_prob(X) >= threshold"
      ]
    },
    {
      "cell_type": "code",
      "execution_count": 9,
      "metadata": {},
      "outputs": [
        {
          "name": "stdout",
          "output_type": "stream",
          "text": [
            "1.0\n",
            "[-25.89066442  12.523156   -13.40150447]\n"
          ]
        }
      ],
      "source": [
        "# EvaLuation\n",
        "model = LogisticRegression(lr=0.1, num_iter=300000)\n",
        "model.fit(X, y)\n",
        "preds = model.predict(X)\n",
        "# accuracy\n",
        "print((preds == y).mean())\n",
        "print(model.theta)"
      ]
    }
  ],
  "metadata": {
    "colab": {
      "provenance": []
    },
    "kernelspec": {
      "display_name": "Python 3",
      "name": "python3"
    },
    "language_info": {
      "codemirror_mode": {
        "name": "ipython",
        "version": 3
      },
      "file_extension": ".py",
      "mimetype": "text/x-python",
      "name": "python",
      "nbconvert_exporter": "python",
      "pygments_lexer": "ipython3",
      "version": "3.13.2"
    }
  },
  "nbformat": 4,
  "nbformat_minor": 0
}
