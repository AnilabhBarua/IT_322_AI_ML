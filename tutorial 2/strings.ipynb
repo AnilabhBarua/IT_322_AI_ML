{
 "cells": [
  {
   "cell_type": "markdown",
   "id": "d17e20f9",
   "metadata": {
    "id": "d17e20f9",
    "papermill": {
     "duration": 0.013221,
     "end_time": "2023-04-21T13:38:06.705699",
     "exception": false,
     "start_time": "2023-04-21T13:38:06.692478",
     "status": "completed"
    },
    "tags": []
   },
   "source": [
    "This lesson will cover two essential Python types: **strings** and **dictionaries**."
   ]
  },
  {
   "cell_type": "markdown",
   "id": "878d5ad2",
   "metadata": {
    "id": "878d5ad2",
    "papermill": {
     "duration": 0.012358,
     "end_time": "2023-04-21T13:38:06.729906",
     "exception": false,
     "start_time": "2023-04-21T13:38:06.717548",
     "status": "completed"
    },
    "tags": []
   },
   "source": [
    "# Strings"
   ]
  },
  {
   "cell_type": "markdown",
   "id": "70bbb790",
   "metadata": {
    "id": "70bbb790",
    "papermill": {
     "duration": 0.012488,
     "end_time": "2023-04-21T13:38:06.757846",
     "exception": false,
     "start_time": "2023-04-21T13:38:06.745358",
     "status": "completed"
    },
    "tags": []
   },
   "source": [
    "One place where the Python language really shines is in the manipulation of strings.\n",
    "This section will cover some of Python's built-in string methods and formatting operations.\n",
    "\n",
    "Such string manipulation patterns come up often in the context of data science work.\n",
    "\n",
    "## String syntax\n",
    "\n",
    "You've already seen plenty of strings in examples during the previous lessons, but just to recap, strings in Python can be defined using either single or double quotations. They are functionally equivalent."
   ]
  },
  {
   "cell_type": "code",
   "execution_count": 1,
   "id": "f403dbbc",
   "metadata": {
    "colab": {
     "base_uri": "https://localhost:8080/"
    },
    "execution": {
     "iopub.execute_input": "2023-04-21T13:38:06.797727Z",
     "iopub.status.busy": "2023-04-21T13:38:06.797138Z",
     "iopub.status.idle": "2023-04-21T13:38:06.814537Z",
     "shell.execute_reply": "2023-04-21T13:38:06.813246Z"
    },
    "executionInfo": {
     "elapsed": 557,
     "status": "ok",
     "timestamp": 1725608322853,
     "user": {
      "displayName": "Rupam Bhattacharyya",
      "userId": "00097577364919427844"
     },
     "user_tz": -330
    },
    "id": "f403dbbc",
    "outputId": "1ffb8c1c-414d-4ff7-ee15-a5cfb453ea8d",
    "papermill": {
     "duration": 0.040443,
     "end_time": "2023-04-21T13:38:06.817310",
     "exception": false,
     "start_time": "2023-04-21T13:38:06.776867",
     "status": "completed"
    },
    "tags": []
   },
   "outputs": [
    {
     "data": {
      "text/plain": [
       "False"
      ]
     },
     "execution_count": 1,
     "metadata": {},
     "output_type": "execute_result"
    }
   ],
   "source": [
    "x = 'Pluto is a planet'\n",
    "y = \"Pluto1 is a planet\"\n",
    "x == y"
   ]
  },
  {
   "cell_type": "markdown",
   "id": "87fc2e1b",
   "metadata": {
    "id": "87fc2e1b",
    "papermill": {
     "duration": 0.011975,
     "end_time": "2023-04-21T13:38:06.841743",
     "exception": false,
     "start_time": "2023-04-21T13:38:06.829768",
     "status": "completed"
    },
    "tags": []
   },
   "source": [
    "Double quotes are convenient if your string contains a single quote character (e.g. representing an apostrophe).\n",
    "\n",
    "Similarly, it's easy to create a string that contains double-quotes if you wrap it in single quotes:"
   ]
  },
  {
   "cell_type": "code",
   "execution_count": 2,
   "id": "0b903411",
   "metadata": {
    "colab": {
     "base_uri": "https://localhost:8080/"
    },
    "execution": {
     "iopub.execute_input": "2023-04-21T13:38:06.870780Z",
     "iopub.status.busy": "2023-04-21T13:38:06.870237Z",
     "iopub.status.idle": "2023-04-21T13:38:06.877099Z",
     "shell.execute_reply": "2023-04-21T13:38:06.875928Z"
    },
    "executionInfo": {
     "elapsed": 486,
     "status": "ok",
     "timestamp": 1725608326332,
     "user": {
      "displayName": "Rupam Bhattacharyya",
      "userId": "00097577364919427844"
     },
     "user_tz": -330
    },
    "id": "0b903411",
    "outputId": "f9cfb43b-1f99-4e51-ecb5-2c9db1994d55",
    "papermill": {
     "duration": 0.025487,
     "end_time": "2023-04-21T13:38:06.879493",
     "exception": false,
     "start_time": "2023-04-21T13:38:06.854006",
     "status": "completed"
    },
    "tags": []
   },
   "outputs": [
    {
     "name": "stdout",
     "output_type": "stream",
     "text": [
      "Pluto's a planet!\n",
      "My dog is named \"Pluto\"\n"
     ]
    }
   ],
   "source": [
    "print(\"Pluto's a planet!\")\n",
    "print('My dog is named \"Pluto\"')"
   ]
  },
  {
   "cell_type": "markdown",
   "id": "87aa222c",
   "metadata": {
    "id": "87aa222c",
    "papermill": {
     "duration": 0.01271,
     "end_time": "2023-04-21T13:38:06.904386",
     "exception": false,
     "start_time": "2023-04-21T13:38:06.891676",
     "status": "completed"
    },
    "tags": []
   },
   "source": [
    "If we try to put a single quote character inside a single-quoted string, Python gets confused:"
   ]
  },
  {
   "cell_type": "code",
   "execution_count": 3,
   "id": "4783cee4",
   "metadata": {
    "colab": {
     "base_uri": "https://localhost:8080/",
     "height": 108
    },
    "execution": {
     "iopub.execute_input": "2023-04-21T13:38:06.933087Z",
     "iopub.status.busy": "2023-04-21T13:38:06.932124Z",
     "iopub.status.idle": "2023-04-21T13:38:06.939557Z",
     "shell.execute_reply": "2023-04-21T13:38:06.938551Z"
    },
    "executionInfo": {
     "elapsed": 17,
     "status": "error",
     "timestamp": 1725608328230,
     "user": {
      "displayName": "Rupam Bhattacharyya",
      "userId": "00097577364919427844"
     },
     "user_tz": -330
    },
    "id": "4783cee4",
    "outputId": "cc8663d6-db45-477b-e75a-16c2eec649a8",
    "papermill": {
     "duration": 0.024853,
     "end_time": "2023-04-21T13:38:06.942104",
     "exception": false,
     "start_time": "2023-04-21T13:38:06.917251",
     "status": "completed"
    },
    "tags": [
     "raises-exception"
    ]
   },
   "outputs": [
    {
     "ename": "SyntaxError",
     "evalue": "unterminated string literal (detected at line 1) (<ipython-input-3-a43631749f52>, line 1)",
     "output_type": "error",
     "traceback": [
      "\u001b[0;36m  File \u001b[0;32m\"<ipython-input-3-a43631749f52>\"\u001b[0;36m, line \u001b[0;32m1\u001b[0m\n\u001b[0;31m    'Pluto's a planet!'\u001b[0m\n\u001b[0m                      ^\u001b[0m\n\u001b[0;31mSyntaxError\u001b[0m\u001b[0;31m:\u001b[0m unterminated string literal (detected at line 1)\n"
     ]
    }
   ],
   "source": [
    "'Pluto's a planet!'"
   ]
  },
  {
   "cell_type": "markdown",
   "id": "7630def2",
   "metadata": {
    "id": "7630def2",
    "papermill": {
     "duration": 0.012546,
     "end_time": "2023-04-21T13:38:06.967312",
     "exception": false,
     "start_time": "2023-04-21T13:38:06.954766",
     "status": "completed"
    },
    "tags": []
   },
   "source": [
    "We can fix this by \"escaping\" the single quote with a backslash."
   ]
  },
  {
   "cell_type": "code",
   "execution_count": 4,
   "id": "096644be",
   "metadata": {
    "colab": {
     "base_uri": "https://localhost:8080/",
     "height": 35
    },
    "execution": {
     "iopub.execute_input": "2023-04-21T13:38:06.995729Z",
     "iopub.status.busy": "2023-04-21T13:38:06.994287Z",
     "iopub.status.idle": "2023-04-21T13:38:07.004330Z",
     "shell.execute_reply": "2023-04-21T13:38:07.003124Z"
    },
    "executionInfo": {
     "elapsed": 504,
     "status": "ok",
     "timestamp": 1725608343143,
     "user": {
      "displayName": "Rupam Bhattacharyya",
      "userId": "00097577364919427844"
     },
     "user_tz": -330
    },
    "id": "096644be",
    "outputId": "04a87678-4b52-42b5-deca-e8f35259f8dc",
    "papermill": {
     "duration": 0.027892,
     "end_time": "2023-04-21T13:38:07.007915",
     "exception": false,
     "start_time": "2023-04-21T13:38:06.980023",
     "status": "completed"
    },
    "tags": []
   },
   "outputs": [
    {
     "data": {
      "application/vnd.google.colaboratory.intrinsic+json": {
       "type": "string"
      },
      "text/plain": [
       "\"Pluto's a planet!\""
      ]
     },
     "execution_count": 4,
     "metadata": {},
     "output_type": "execute_result"
    }
   ],
   "source": [
    "'Pluto\\'s a planet!'"
   ]
  },
  {
   "cell_type": "markdown",
   "id": "a876deea",
   "metadata": {
    "id": "a876deea",
    "papermill": {
     "duration": 0.012455,
     "end_time": "2023-04-21T13:38:07.040745",
     "exception": false,
     "start_time": "2023-04-21T13:38:07.028290",
     "status": "completed"
    },
    "tags": []
   },
   "source": [
    "The table below summarizes some important uses of the backslash character.\n",
    "\n",
    "| What you type... | What you get | example               | `print(example)`             |\n",
    "|--------------|----------------|--------------------------------------------------------|\n",
    "| `\\'`         | `'`            | `'What\\'s up?'`         | `What's up?`                 |  \n",
    "| `\\\"`         | `\"`            | `\"That's \\\"cool\\\"\"`     | `That's \"cool\"`              |  \n",
    "| `\\\\`         | `\\`            |  `\"Look, a mountain: /\\\\\"` |  `Look, a mountain: /\\`  |\n",
    "| `\\n`        |   <br/>      |   `\"1\\n2 3\"`                       |   `1`<br/>`2 3`              |"
   ]
  },
  {
   "cell_type": "markdown",
   "id": "8f94fb0f",
   "metadata": {
    "id": "8f94fb0f",
    "papermill": {
     "duration": 0.012208,
     "end_time": "2023-04-21T13:38:07.065466",
     "exception": false,
     "start_time": "2023-04-21T13:38:07.053258",
     "status": "completed"
    },
    "tags": []
   },
   "source": [
    "The last sequence, `\\n`, represents the *newline character*. It causes Python to start a new line."
   ]
  },
  {
   "cell_type": "code",
   "execution_count": 5,
   "id": "a7365b79",
   "metadata": {
    "colab": {
     "base_uri": "https://localhost:8080/"
    },
    "execution": {
     "iopub.execute_input": "2023-04-21T13:38:07.092821Z",
     "iopub.status.busy": "2023-04-21T13:38:07.092324Z",
     "iopub.status.idle": "2023-04-21T13:38:07.099068Z",
     "shell.execute_reply": "2023-04-21T13:38:07.097543Z"
    },
    "executionInfo": {
     "elapsed": 516,
     "status": "ok",
     "timestamp": 1725608377587,
     "user": {
      "displayName": "Rupam Bhattacharyya",
      "userId": "00097577364919427844"
     },
     "user_tz": -330
    },
    "id": "a7365b79",
    "outputId": "377bb0ab-34d4-4c9c-8993-405a324b77f2",
    "papermill": {
     "duration": 0.023213,
     "end_time": "2023-04-21T13:38:07.101524",
     "exception": false,
     "start_time": "2023-04-21T13:38:07.078311",
     "status": "completed"
    },
    "tags": []
   },
   "outputs": [
    {
     "name": "stdout",
     "output_type": "stream",
     "text": [
      "hello\n",
      "world\n"
     ]
    }
   ],
   "source": [
    "hello = \"hello\\nworld\"\n",
    "print(hello)"
   ]
  },
  {
   "cell_type": "markdown",
   "id": "8087f1f9",
   "metadata": {
    "id": "8087f1f9",
    "papermill": {
     "duration": 0.020711,
     "end_time": "2023-04-21T13:38:07.214277",
     "exception": false,
     "start_time": "2023-04-21T13:38:07.193566",
     "status": "completed"
    },
    "tags": []
   },
   "source": [
    "The `print()` function automatically adds a newline character unless we specify a value for the keyword argument `end` other than the default value of `'\\n'`:"
   ]
  },
  {
   "cell_type": "markdown",
   "id": "57126e96",
   "metadata": {
    "id": "57126e96",
    "papermill": {
     "duration": 0.012576,
     "end_time": "2023-04-21T13:38:07.277506",
     "exception": false,
     "start_time": "2023-04-21T13:38:07.264930",
     "status": "completed"
    },
    "tags": []
   },
   "source": [
    "## Strings are sequences\n",
    "\n",
    "Strings can be thought of as sequences of characters. Almost everything we've seen that we can do to a list, we can also do to a string."
   ]
  },
  {
   "cell_type": "code",
   "execution_count": 6,
   "id": "a6502d4e",
   "metadata": {
    "colab": {
     "base_uri": "https://localhost:8080/",
     "height": 35
    },
    "execution": {
     "iopub.execute_input": "2023-04-21T13:38:07.305783Z",
     "iopub.status.busy": "2023-04-21T13:38:07.305252Z",
     "iopub.status.idle": "2023-04-21T13:38:07.313396Z",
     "shell.execute_reply": "2023-04-21T13:38:07.312056Z"
    },
    "executionInfo": {
     "elapsed": 471,
     "status": "ok",
     "timestamp": 1725608431247,
     "user": {
      "displayName": "Rupam Bhattacharyya",
      "userId": "00097577364919427844"
     },
     "user_tz": -330
    },
    "id": "a6502d4e",
    "outputId": "6c6b1bca-aa40-4072-b384-77b5301c649c",
    "papermill": {
     "duration": 0.025697,
     "end_time": "2023-04-21T13:38:07.316166",
     "exception": false,
     "start_time": "2023-04-21T13:38:07.290469",
     "status": "completed"
    },
    "tags": []
   },
   "outputs": [
    {
     "data": {
      "application/vnd.google.colaboratory.intrinsic+json": {
       "type": "string"
      },
      "text/plain": [
       "'P'"
      ]
     },
     "execution_count": 6,
     "metadata": {},
     "output_type": "execute_result"
    }
   ],
   "source": [
    "# Indexing\n",
    "planet = 'Pluto'\n",
    "planet[0]"
   ]
  },
  {
   "cell_type": "code",
   "execution_count": 8,
   "id": "70d51a2d",
   "metadata": {
    "colab": {
     "base_uri": "https://localhost:8080/",
     "height": 35
    },
    "execution": {
     "iopub.execute_input": "2023-04-21T13:38:07.345404Z",
     "iopub.status.busy": "2023-04-21T13:38:07.344129Z",
     "iopub.status.idle": "2023-04-21T13:38:07.352791Z",
     "shell.execute_reply": "2023-04-21T13:38:07.351521Z"
    },
    "executionInfo": {
     "elapsed": 510,
     "status": "ok",
     "timestamp": 1725608494873,
     "user": {
      "displayName": "Rupam Bhattacharyya",
      "userId": "00097577364919427844"
     },
     "user_tz": -330
    },
    "id": "70d51a2d",
    "outputId": "972b60c3-1fa7-4895-eeae-678843463dfc",
    "papermill": {
     "duration": 0.025813,
     "end_time": "2023-04-21T13:38:07.355296",
     "exception": false,
     "start_time": "2023-04-21T13:38:07.329483",
     "status": "completed"
    },
    "tags": []
   },
   "outputs": [
    {
     "data": {
      "application/vnd.google.colaboratory.intrinsic+json": {
       "type": "string"
      },
      "text/plain": [
       "'uto'"
      ]
     },
     "execution_count": 8,
     "metadata": {},
     "output_type": "execute_result"
    }
   ],
   "source": [
    "# Slicing\n",
    "planet[-3:]"
   ]
  },
  {
   "cell_type": "code",
   "execution_count": 9,
   "id": "b731ebf7",
   "metadata": {
    "colab": {
     "base_uri": "https://localhost:8080/"
    },
    "execution": {
     "iopub.execute_input": "2023-04-21T13:38:07.384288Z",
     "iopub.status.busy": "2023-04-21T13:38:07.383394Z",
     "iopub.status.idle": "2023-04-21T13:38:07.391754Z",
     "shell.execute_reply": "2023-04-21T13:38:07.390455Z"
    },
    "executionInfo": {
     "elapsed": 474,
     "status": "ok",
     "timestamp": 1725608497919,
     "user": {
      "displayName": "Rupam Bhattacharyya",
      "userId": "00097577364919427844"
     },
     "user_tz": -330
    },
    "id": "b731ebf7",
    "outputId": "878416b1-b3ff-4914-963c-ff9e6ead10a6",
    "papermill": {
     "duration": 0.025153,
     "end_time": "2023-04-21T13:38:07.394081",
     "exception": false,
     "start_time": "2023-04-21T13:38:07.368928",
     "status": "completed"
    },
    "tags": []
   },
   "outputs": [
    {
     "data": {
      "text/plain": [
       "5"
      ]
     },
     "execution_count": 9,
     "metadata": {},
     "output_type": "execute_result"
    }
   ],
   "source": [
    "# How long is this string?\n",
    "len(planet)"
   ]
  },
  {
   "cell_type": "code",
   "execution_count": 10,
   "id": "3c6fd7f0",
   "metadata": {
    "colab": {
     "base_uri": "https://localhost:8080/"
    },
    "execution": {
     "iopub.execute_input": "2023-04-21T13:38:07.423278Z",
     "iopub.status.busy": "2023-04-21T13:38:07.421920Z",
     "iopub.status.idle": "2023-04-21T13:38:07.430907Z",
     "shell.execute_reply": "2023-04-21T13:38:07.429549Z"
    },
    "executionInfo": {
     "elapsed": 3,
     "status": "ok",
     "timestamp": 1725608500281,
     "user": {
      "displayName": "Rupam Bhattacharyya",
      "userId": "00097577364919427844"
     },
     "user_tz": -330
    },
    "id": "3c6fd7f0",
    "outputId": "85a2787e-b72b-4312-e1a4-e0699b94661b",
    "papermill": {
     "duration": 0.026145,
     "end_time": "2023-04-21T13:38:07.433468",
     "exception": false,
     "start_time": "2023-04-21T13:38:07.407323",
     "status": "completed"
    },
    "tags": []
   },
   "outputs": [
    {
     "data": {
      "text/plain": [
       "['P! ', 'l! ', 'u! ', 't! ', 'o! ']"
      ]
     },
     "execution_count": 10,
     "metadata": {},
     "output_type": "execute_result"
    }
   ],
   "source": [
    "# Yes, we can even loop over them\n",
    "[char+'! ' for char in planet]"
   ]
  },
  {
   "cell_type": "markdown",
   "id": "f5a98b29",
   "metadata": {
    "id": "f5a98b29",
    "papermill": {
     "duration": 0.013241,
     "end_time": "2023-04-21T13:38:07.460749",
     "exception": false,
     "start_time": "2023-04-21T13:38:07.447508",
     "status": "completed"
    },
    "tags": []
   },
   "source": [
    "But a major way in which they differ from lists is that they are *immutable*. We can't modify them."
   ]
  },
  {
   "cell_type": "code",
   "execution_count": 11,
   "id": "968de854",
   "metadata": {
    "colab": {
     "base_uri": "https://localhost:8080/",
     "height": 162
    },
    "execution": {
     "iopub.execute_input": "2023-04-21T13:38:07.490711Z",
     "iopub.status.busy": "2023-04-21T13:38:07.490163Z",
     "iopub.status.idle": "2023-04-21T13:38:07.557864Z",
     "shell.execute_reply": "2023-04-21T13:38:07.556503Z"
    },
    "executionInfo": {
     "elapsed": 3,
     "status": "error",
     "timestamp": 1725608502113,
     "user": {
      "displayName": "Rupam Bhattacharyya",
      "userId": "00097577364919427844"
     },
     "user_tz": -330
    },
    "id": "968de854",
    "outputId": "3c2cf423-4dbf-455a-9248-572d08841807",
    "papermill": {
     "duration": 0.086305,
     "end_time": "2023-04-21T13:38:07.560591",
     "exception": false,
     "start_time": "2023-04-21T13:38:07.474286",
     "status": "completed"
    },
    "tags": [
     "raises-exception"
    ]
   },
   "outputs": [
    {
     "ename": "TypeError",
     "evalue": "'str' object does not support item assignment",
     "output_type": "error",
     "traceback": [
      "\u001b[0;31m---------------------------------------------------------------------------\u001b[0m",
      "\u001b[0;31mTypeError\u001b[0m                                 Traceback (most recent call last)",
      "\u001b[0;32m<ipython-input-11-6ca42463b9f9>\u001b[0m in \u001b[0;36m<cell line: 1>\u001b[0;34m()\u001b[0m\n\u001b[0;32m----> 1\u001b[0;31m \u001b[0mplanet\u001b[0m\u001b[0;34m[\u001b[0m\u001b[0;36m0\u001b[0m\u001b[0;34m]\u001b[0m \u001b[0;34m=\u001b[0m \u001b[0;34m'B'\u001b[0m\u001b[0;34m\u001b[0m\u001b[0;34m\u001b[0m\u001b[0m\n\u001b[0m\u001b[1;32m      2\u001b[0m \u001b[0;31m# planet.append doesn't work either\u001b[0m\u001b[0;34m\u001b[0m\u001b[0;34m\u001b[0m\u001b[0m\n",
      "\u001b[0;31mTypeError\u001b[0m: 'str' object does not support item assignment"
     ]
    }
   ],
   "source": [
    "planet[0] = 'B'\n",
    "# planet.append doesn't work either"
   ]
  },
  {
   "cell_type": "markdown",
   "id": "c7b63f2d",
   "metadata": {
    "id": "c7b63f2d",
    "papermill": {
     "duration": 0.013265,
     "end_time": "2023-04-21T13:38:07.587538",
     "exception": false,
     "start_time": "2023-04-21T13:38:07.574273",
     "status": "completed"
    },
    "tags": []
   },
   "source": [
    "## String methods\n",
    "\n",
    "Like `list`, the type `str` has lots of very useful methods. I'll show just a few examples here."
   ]
  },
  {
   "cell_type": "code",
   "execution_count": 12,
   "id": "9fe3dcdd",
   "metadata": {
    "colab": {
     "base_uri": "https://localhost:8080/",
     "height": 35
    },
    "execution": {
     "iopub.execute_input": "2023-04-21T13:38:07.617432Z",
     "iopub.status.busy": "2023-04-21T13:38:07.616686Z",
     "iopub.status.idle": "2023-04-21T13:38:07.624736Z",
     "shell.execute_reply": "2023-04-21T13:38:07.623405Z"
    },
    "executionInfo": {
     "elapsed": 472,
     "status": "ok",
     "timestamp": 1725608609416,
     "user": {
      "displayName": "Rupam Bhattacharyya",
      "userId": "00097577364919427844"
     },
     "user_tz": -330
    },
    "id": "9fe3dcdd",
    "outputId": "d93cd876-37a9-46db-8be5-fd40c9a2bddc",
    "papermill": {
     "duration": 0.025651,
     "end_time": "2023-04-21T13:38:07.627334",
     "exception": false,
     "start_time": "2023-04-21T13:38:07.601683",
     "status": "completed"
    },
    "tags": []
   },
   "outputs": [
    {
     "data": {
      "application/vnd.google.colaboratory.intrinsic+json": {
       "type": "string"
      },
      "text/plain": [
       "'PLUTO IS A PLANET!'"
      ]
     },
     "execution_count": 12,
     "metadata": {},
     "output_type": "execute_result"
    }
   ],
   "source": [
    "# ALL CAPS\n",
    "claim = \"Pluto is a planet!\"\n",
    "claim.upper()"
   ]
  },
  {
   "cell_type": "code",
   "execution_count": 13,
   "id": "1488e08f",
   "metadata": {
    "colab": {
     "base_uri": "https://localhost:8080/",
     "height": 35
    },
    "execution": {
     "iopub.execute_input": "2023-04-21T13:38:07.656885Z",
     "iopub.status.busy": "2023-04-21T13:38:07.656297Z",
     "iopub.status.idle": "2023-04-21T13:38:07.663457Z",
     "shell.execute_reply": "2023-04-21T13:38:07.662343Z"
    },
    "executionInfo": {
     "elapsed": 475,
     "status": "ok",
     "timestamp": 1725608612248,
     "user": {
      "displayName": "Rupam Bhattacharyya",
      "userId": "00097577364919427844"
     },
     "user_tz": -330
    },
    "id": "1488e08f",
    "outputId": "3b265286-d89b-4d28-a25e-aa69c38339f2",
    "papermill": {
     "duration": 0.024863,
     "end_time": "2023-04-21T13:38:07.666009",
     "exception": false,
     "start_time": "2023-04-21T13:38:07.641146",
     "status": "completed"
    },
    "tags": []
   },
   "outputs": [
    {
     "data": {
      "application/vnd.google.colaboratory.intrinsic+json": {
       "type": "string"
      },
      "text/plain": [
       "'pluto is a planet!'"
      ]
     },
     "execution_count": 13,
     "metadata": {},
     "output_type": "execute_result"
    }
   ],
   "source": [
    "# all lowercase\n",
    "claim.lower()"
   ]
  },
  {
   "cell_type": "code",
   "execution_count": 14,
   "id": "94346194",
   "metadata": {
    "colab": {
     "base_uri": "https://localhost:8080/"
    },
    "execution": {
     "iopub.execute_input": "2023-04-21T13:38:07.696529Z",
     "iopub.status.busy": "2023-04-21T13:38:07.696007Z",
     "iopub.status.idle": "2023-04-21T13:38:07.704490Z",
     "shell.execute_reply": "2023-04-21T13:38:07.703176Z"
    },
    "executionInfo": {
     "elapsed": 2,
     "status": "ok",
     "timestamp": 1725608613878,
     "user": {
      "displayName": "Rupam Bhattacharyya",
      "userId": "00097577364919427844"
     },
     "user_tz": -330
    },
    "id": "94346194",
    "outputId": "1d8cd2fd-0b97-4eed-bfd1-daf914d7d7a9",
    "papermill": {
     "duration": 0.027107,
     "end_time": "2023-04-21T13:38:07.707244",
     "exception": false,
     "start_time": "2023-04-21T13:38:07.680137",
     "status": "completed"
    },
    "tags": []
   },
   "outputs": [
    {
     "data": {
      "text/plain": [
       "11"
      ]
     },
     "execution_count": 14,
     "metadata": {},
     "output_type": "execute_result"
    }
   ],
   "source": [
    "# Searching for the first index of a substring\n",
    "claim.index('plan')"
   ]
  },
  {
   "cell_type": "code",
   "execution_count": 15,
   "id": "ef33a0ce",
   "metadata": {
    "colab": {
     "base_uri": "https://localhost:8080/"
    },
    "execution": {
     "iopub.execute_input": "2023-04-21T13:38:07.741782Z",
     "iopub.status.busy": "2023-04-21T13:38:07.740749Z",
     "iopub.status.idle": "2023-04-21T13:38:07.747185Z",
     "shell.execute_reply": "2023-04-21T13:38:07.746333Z"
    },
    "executionInfo": {
     "elapsed": 478,
     "status": "ok",
     "timestamp": 1725608634784,
     "user": {
      "displayName": "Rupam Bhattacharyya",
      "userId": "00097577364919427844"
     },
     "user_tz": -330
    },
    "id": "ef33a0ce",
    "outputId": "d7b34247-8e1f-40d7-9915-abe9e74a742e",
    "papermill": {
     "duration": 0.024361,
     "end_time": "2023-04-21T13:38:07.749432",
     "exception": false,
     "start_time": "2023-04-21T13:38:07.725071",
     "status": "completed"
    },
    "tags": []
   },
   "outputs": [
    {
     "data": {
      "text/plain": [
       "True"
      ]
     },
     "execution_count": 15,
     "metadata": {},
     "output_type": "execute_result"
    }
   ],
   "source": [
    "claim.startswith(planet)"
   ]
  },
  {
   "cell_type": "code",
   "execution_count": 16,
   "id": "28560f85",
   "metadata": {
    "colab": {
     "base_uri": "https://localhost:8080/"
    },
    "execution": {
     "iopub.execute_input": "2023-04-21T13:38:07.781215Z",
     "iopub.status.busy": "2023-04-21T13:38:07.780213Z",
     "iopub.status.idle": "2023-04-21T13:38:07.787155Z",
     "shell.execute_reply": "2023-04-21T13:38:07.785965Z"
    },
    "executionInfo": {
     "elapsed": 466,
     "status": "ok",
     "timestamp": 1725608637508,
     "user": {
      "displayName": "Rupam Bhattacharyya",
      "userId": "00097577364919427844"
     },
     "user_tz": -330
    },
    "id": "28560f85",
    "outputId": "982468b7-9cdc-4dd6-a2d4-1a5bb1e7a487",
    "papermill": {
     "duration": 0.025134,
     "end_time": "2023-04-21T13:38:07.789516",
     "exception": false,
     "start_time": "2023-04-21T13:38:07.764382",
     "status": "completed"
    },
    "tags": []
   },
   "outputs": [
    {
     "data": {
      "text/plain": [
       "False"
      ]
     },
     "execution_count": 16,
     "metadata": {},
     "output_type": "execute_result"
    }
   ],
   "source": [
    "# false because of missing exclamation mark\n",
    "claim.endswith('planet')"
   ]
  }
 ],
 "metadata": {
  "anaconda-cloud": {},
  "colab": {
   "provenance": []
  },
  "kernelspec": {
   "display_name": "Python 3",
   "language": "python",
   "name": "python3"
  },
  "language_info": {
   "codemirror_mode": {
    "name": "ipython",
    "version": 3
   },
   "file_extension": ".py",
   "mimetype": "text/x-python",
   "name": "python",
   "nbconvert_exporter": "python",
   "pygments_lexer": "ipython3",
   "version": "3.12.9"
  },
  "learntools_metadata": {
   "lesson_index": 5,
   "type": "tutorial"
  },
  "papermill": {
   "default_parameters": {},
   "duration": 14.144488,
   "end_time": "2023-04-21T13:38:10.094036",
   "environment_variables": {},
   "exception": null,
   "input_path": "__notebook__.ipynb",
   "output_path": "__notebook__.ipynb",
   "parameters": {},
   "start_time": "2023-04-21T13:37:55.949548",
   "version": "2.4.0"
  }
 },
 "nbformat": 4,
 "nbformat_minor": 5
}
