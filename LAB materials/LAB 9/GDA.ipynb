{
  "nbformat": 4,
  "nbformat_minor": 0,
  "metadata": {
    "colab": {
      "provenance": []
    },
    "kernelspec": {
      "name": "python3",
      "display_name": "Python 3"
    },
    "language_info": {
      "name": "python"
    }
  },
  "cells": [
    {
      "cell_type": "code",
      "execution_count": 1,
      "metadata": {
        "colab": {
          "base_uri": "https://localhost:8080/"
        },
        "id": "bACOYvAc7_X9",
        "outputId": "8f906eb0-4a9d-4570-8dec-652759858b46"
      },
      "outputs": [
        {
          "output_type": "stream",
          "name": "stdout",
          "text": [
            "Accuracy: 0.83\n"
          ]
        }
      ],
      "source": [
        "import numpy as np\n",
        "from sklearn.datasets import load_iris\n",
        "from sklearn.model_selection import train_test_split\n",
        "\n",
        "# Load and split data\n",
        "X, y = load_iris(return_X_y=True)\n",
        "X_train, X_test, y_train, y_test = train_test_split(X, y, test_size=0.2, random_state=42)\n",
        "\n",
        "class GDA:\n",
        "    def __init__(self):\n",
        "        self.phi = None\n",
        "        self.mu0 = None\n",
        "        self.mu1 = None\n",
        "        self.sigma = None\n",
        "\n",
        "    def fit(self, X, y):\n",
        "        # Class prior probabilities\n",
        "        self.phi = np.mean(y == 1)\n",
        "\n",
        "        # Class means\n",
        "        self.mu0 = X[y == 0].mean(axis=0)\n",
        "        self.mu1 = X[y == 1].mean(axis=0)\n",
        "\n",
        "        # Shared covariance matrix\n",
        "        X0_centered = X[y == 0] - self.mu0\n",
        "        X1_centered = X[y == 1] - self.mu1\n",
        "        self.sigma = (X0_centered.T @ X0_centered + X1_centered.T @ X1_centered) / len(y)\n",
        "\n",
        "    def predict(self, X):\n",
        "        # Calculate probabilities using Gaussian PDF\n",
        "        inv_sigma = np.linalg.inv(self.sigma)\n",
        "\n",
        "        # For class 0\n",
        "        diff0 = X - self.mu0\n",
        "        p0 = np.exp(-0.5 * np.sum(diff0 @ inv_sigma * diff0, axis=1)) * (1 - self.phi)\n",
        "\n",
        "        # For class 1\n",
        "        diff1 = X - self.mu1\n",
        "        p1 = np.exp(-0.5 * np.sum(diff1 @ inv_sigma * diff1, axis=1)) * self.phi\n",
        "\n",
        "        return (p1 > p0).astype(int)\n",
        "\n",
        "# Train and test (binary classification example)\n",
        "gda = GDA()\n",
        "gda.fit(X_train, y_train % 2)  # Convert to binary classification\n",
        "y_pred = gda.predict(X_test)\n",
        "accuracy = np.mean(y_pred == (y_test % 2))\n",
        "print(f\"Accuracy: {accuracy:.2f}\")"
      ]
    }
  ]
}