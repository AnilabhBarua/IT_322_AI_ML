{
  "nbformat": 4,
  "nbformat_minor": 0,
  "metadata": {
    "colab": {
      "provenance": []
    },
    "kernelspec": {
      "name": "python3",
      "display_name": "Python 3"
    },
    "language_info": {
      "name": "python"
    }
  },
  "cells": [
    {
      "cell_type": "code",
      "execution_count": 1,
      "metadata": {
        "id": "_cdP44Gfrzs6"
      },
      "outputs": [],
      "source": [
        "import numpy as np\n",
        "\n",
        "def sigmoid(z):\n",
        "    return 1 / (1 + np.exp(-z))\n",
        "\n",
        "class LogisticRegression:\n",
        "    def __init__(self, learning_rate=0.01, n_iters=1000):\n",
        "        self.lr = learning_rate\n",
        "        self.n_iters = n_iters\n",
        "        self.weights = None\n",
        "        self.bias = None\n",
        "\n",
        "    def fit(self, X, y):\n",
        "        n_samples, n_features = X.shape\n",
        "        self.weights = np.zeros(n_features)\n",
        "        self.bias = 0\n",
        "\n",
        "        for _ in range(self.n_iters):\n",
        "            linear_model = np.dot(X, self.weights) + self.bias\n",
        "            y_pred = sigmoid(linear_model)\n",
        "\n",
        "            # MSE gradient calculations\n",
        "            dw = (1/n_samples) * np.dot(X.T, (y_pred - y) * y_pred * (1 - y_pred))\n",
        "            db = (1/n_samples) * np.sum((y_pred - y) * y_pred * (1 - y_pred))\n",
        "\n",
        "            self.weights -= self.lr * dw\n",
        "            self.bias -= self.lr * db\n",
        "\n",
        "    def predict(self, X, threshold=0.5):\n",
        "        linear_model = np.dot(X, self.weights) + self.bias\n",
        "        y_pred = sigmoid(linear_model)\n",
        "        return (y_pred >= threshold).astype(int)"
      ]
    },
    {
      "cell_type": "code",
      "source": [
        "# Sample data (binary classification)\n",
        "X = np.array([[1, 2], [2, 3], [3, 4], [4, 5]])\n",
        "y = np.array([0, 0, 1, 1])\n",
        "\n",
        "# Feature scaling recommended for real use cases\n",
        "model = LogisticRegression(learning_rate=0.1, n_iters=1000)\n",
        "model.fit(X, y)\n",
        "\n",
        "# Predictions\n",
        "print(model.predict(np.array([[3, 4.5], [1.5, 2.5]])))  # Output: [1 0]"
      ],
      "metadata": {
        "colab": {
          "base_uri": "https://localhost:8080/"
        },
        "id": "LlRJ1iePr77g",
        "outputId": "dea00f35-990e-40f7-bf74-4de5837f0cd9"
      },
      "execution_count": 2,
      "outputs": [
        {
          "output_type": "stream",
          "name": "stdout",
          "text": [
            "[1 0]\n"
          ]
        }
      ]
    }
  ]
}